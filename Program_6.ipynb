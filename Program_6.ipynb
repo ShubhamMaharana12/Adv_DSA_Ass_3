{
 "cells": [
  {
   "cell_type": "markdown",
   "metadata": {},
   "source": [
    "6) Find sum of all left leaves in a given Binary Tree."
   ]
  },
  {
   "cell_type": "code",
   "execution_count": null,
   "metadata": {},
   "outputs": [],
   "source": [
    "class TreeNode:\n",
    "    def __init__(self, value):\n",
    "        self.value = value\n",
    "        self.left = None\n",
    "        self.right = None\n",
    "\n",
    "def sum_of_left_leaves(root, is_left=False):\n",
    "    if not root:\n",
    "        return 0\n",
    "    if not root.left and not root.right and is_left:\n",
    "        return root.value\n",
    "    return sum_of_left_leaves(root.left, True) + sum_of_left_leaves(root.right, False)\n",
    "\n",
    "def build_binary_tree():\n",
    "    value = int(input(\"Enter the value of the root node: \"))\n",
    "    root = TreeNode(value)\n",
    "    nodes = [root]\n",
    "\n",
    "    while nodes:\n",
    "        current = nodes.pop(0)\n",
    "        left_value = input(f\"Enter the left child value of {current.value} (or type 'None'): \")\n",
    "        if left_value.lower() != 'none':\n",
    "            current.left = TreeNode(int(left_value))\n",
    "            nodes.append(current.left)\n",
    "\n",
    "        right_value = input(f\"Enter the right child value of {current.value} (or type 'None'): \")\n",
    "        if right_value.lower() != 'none':\n",
    "            current.right = TreeNode(int(right_value))\n",
    "            nodes.append(current.right)\n",
    "\n",
    "    return root\n",
    "\n",
    "root_node = build_binary_tree()\n",
    "\n",
    "result = sum_of_left_leaves(root_node)\n",
    "print(f\"Sum of left leaves: {result}\")"
   ]
  }
 ],
 "metadata": {
  "language_info": {
   "name": "python"
  }
 },
 "nbformat": 4,
 "nbformat_minor": 2
}
