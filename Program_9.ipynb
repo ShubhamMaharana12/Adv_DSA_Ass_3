{
 "cells": [
  {
   "cell_type": "markdown",
   "metadata": {},
   "source": [
    "9) Find maximum level sum in Binary Tree."
   ]
  },
  {
   "cell_type": "code",
   "execution_count": null,
   "metadata": {},
   "outputs": [],
   "source": [
    "class TreeNode:\n",
    "    def __init__(self, value):\n",
    "        self.value = value\n",
    "        self.left = None\n",
    "        self.right = None\n",
    "\n",
    "def max_level_sum_dfs(root):\n",
    "    level_sums = []\n",
    "\n",
    "    def dfs(node, level):\n",
    "        if not node:\n",
    "            return\n",
    "\n",
    "        if len(level_sums) <= level:\n",
    "            level_sums.append(0)\n",
    "\n",
    "        level_sums[level] += node.value\n",
    "        dfs(node.left, level + 1)\n",
    "        dfs(node.right, level + 1)\n",
    "\n",
    "    dfs(root, 0)\n",
    "    max_sum = max(level_sums)\n",
    "    result_level = level_sums.index(max_sum)\n",
    "\n",
    "    return result_level, max_sum\n",
    "\n",
    "def build_tree():\n",
    "    value = int(input(\"Enter the value for the root node: \"))\n",
    "    root = TreeNode(value)\n",
    "    \n",
    "    queue = [root]\n",
    "    \n",
    "    while queue:\n",
    "        current = queue.pop(0)\n",
    "        left_value = input(f\"Enter the left child value for {current.value} (or 'None' if no left child): \")\n",
    "        if left_value.lower() != 'none':\n",
    "            current.left = TreeNode(int(left_value))\n",
    "            queue.append(current.left)\n",
    "        \n",
    "        right_value = input(f\"Enter the right child value for {current.value} (or 'None' if no right child): \")\n",
    "        if right_value.lower() != 'none':\n",
    "            current.right = TreeNode(int(right_value))\n",
    "            queue.append(current.right)\n",
    "    \n",
    "    return root\n",
    "\n",
    "root = build_tree()\n",
    "result_level, max_sum = max_level_sum_dfs(root)\n",
    "print(f\"Maximum level sum is {max_sum} at level {result_level}\")"
   ]
  }
 ],
 "metadata": {
  "language_info": {
   "name": "python"
  }
 },
 "nbformat": 4,
 "nbformat_minor": 2
}
