{
 "cells": [
  {
   "cell_type": "markdown",
   "metadata": {},
   "source": [
    "5) Implement BFS (Breath First Search) and DFS (Depth First Search)."
   ]
  },
  {
   "cell_type": "code",
   "execution_count": null,
   "metadata": {},
   "outputs": [],
   "source": [
    "class TreeNode:\n",
    "    def __init__(self, value):\n",
    "        self.value = value\n",
    "        self.left = None\n",
    "        self.right = None\n",
    "\n",
    "def bfs(root):\n",
    "    if not root:\n",
    "        return\n",
    "    queue = [root]\n",
    "    while queue:\n",
    "        node = queue.pop(0)\n",
    "        print(node.value, end=' ')\n",
    "        if node.left:\n",
    "            queue.append(node.left)\n",
    "        if node.right:\n",
    "            queue.append(node.right)\n",
    "\n",
    "def dfs_inorder(root):\n",
    "    if root:\n",
    "        dfs_inorder(root.left)\n",
    "        print(root.value, end=' ')\n",
    "        dfs_inorder(root.right)\n",
    "\n",
    "def build_binary_tree():\n",
    "    root_value = int(input(\"Enter the value of the root node: \"))\n",
    "    root = TreeNode(root_value)\n",
    "    nodes = [root]\n",
    "\n",
    "    while nodes:\n",
    "        current = nodes.pop(0)\n",
    "        left_value = input(f\"Enter the left child value of {current.value} (or type 'None'): \")\n",
    "        if left_value.lower() != 'none':\n",
    "            current.left = TreeNode(int(left_value))\n",
    "            nodes.append(current.left)\n",
    "\n",
    "        right_value = input(f\"Enter the right child value of {current.value} (or type 'None'): \")\n",
    "        if right_value.lower() != 'none':\n",
    "            current.right = TreeNode(int(right_value))\n",
    "            nodes.append(current.right)\n",
    "\n",
    "    return root\n",
    "\n",
    "root_node = build_binary_tree()\n",
    "\n",
    "print(\"BFS traversal:\")\n",
    "bfs(root_node)\n",
    "\n",
    "print(\"\\nDFS (inorder) traversal:\")\n",
    "dfs_inorder(root_node)"
   ]
  }
 ],
 "metadata": {
  "language_info": {
   "name": "python"
  }
 },
 "nbformat": 4,
 "nbformat_minor": 2
}
