{
 "cells": [
  {
   "cell_type": "markdown",
   "metadata": {},
   "source": [
    "4) Function to print all the leaves in a given binary tree."
   ]
  },
  {
   "cell_type": "code",
   "execution_count": null,
   "metadata": {},
   "outputs": [],
   "source": [
    "class TreeNode:\n",
    "    def __init__(self, key):\n",
    "        self.left = None\n",
    "        self.right = None\n",
    "        self.val = key\n",
    "\n",
    "def print_leaves(tree, index):\n",
    "    if index < len(tree):\n",
    "        if tree[index] is not None:\n",
    "            left_child = 2 * index + 1\n",
    "            right_child = 2 * index + 2\n",
    "            if left_child >= len(tree) and right_child >= len(tree):\n",
    "                print(tree[index], end=\" \")\n",
    "            else:\n",
    "                print_leaves(tree, left_child)\n",
    "                print_leaves(tree, right_child)\n",
    "\n",
    "def build_binary_tree():\n",
    "    tree = []\n",
    "    n = int(input(\"Enter the number of elements in the binary tree: \"))\n",
    "    print(\"Enter the elements:\")\n",
    "    for _ in range(n):\n",
    "        key = int(input())\n",
    "        tree.append(key)\n",
    "    return tree\n",
    "\n",
    "binary_tree = build_binary_tree()\n",
    "\n",
    "print(\"\\nLeaves of the Binary Tree:\")\n",
    "print_leaves(binary_tree, 0)"
   ]
  }
 ],
 "metadata": {
  "language_info": {
   "name": "python"
  }
 },
 "nbformat": 4,
 "nbformat_minor": 2
}
