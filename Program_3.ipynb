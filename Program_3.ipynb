{
 "cells": [
  {
   "cell_type": "markdown",
   "metadata": {},
   "source": [
    "3) Perform Pre-order, Post-order, In-order traversal."
   ]
  },
  {
   "cell_type": "code",
   "execution_count": null,
   "metadata": {},
   "outputs": [],
   "source": [
    "class TreeNode:\n",
    "    def __init__(self, key):\n",
    "        self.left = None\n",
    "        self.right = None\n",
    "        self.val = key\n",
    "def preorder_traversal(tree, index):\n",
    "    if index < len(tree):\n",
    "        print(tree[index], end=\" \")\n",
    "        preorder_traversal(tree, 2 * index + 1)\n",
    "        preorder_traversal(tree, 2 * index + 2)\n",
    "\n",
    "def inorder_traversal(tree, index):\n",
    "    if index < len(tree):\n",
    "        inorder_traversal(tree, 2 * index + 1)\n",
    "        print(tree[index], end=\" \")\n",
    "        inorder_traversal(tree, 2 * index + 2)\n",
    "\n",
    "def postorder_traversal(tree, index):\n",
    "    if index < len(tree):\n",
    "        postorder_traversal(tree, 2 * index + 1)\n",
    "        postorder_traversal(tree, 2 * index + 2)\n",
    "        print(tree[index], end=\" \")\n",
    "\n",
    "def build_binary_tree():\n",
    "    tree = []\n",
    "    n = int(input(\"Enter the number of elements in the binary tree: \"))\n",
    "    print(\"Enter the elements:\")\n",
    "    for _ in range(n):\n",
    "        key = int(input())\n",
    "        tree.append(key)\n",
    "    return tree\n",
    "\n",
    "binary_tree = build_binary_tree()\n",
    "\n",
    "print(\"\\nPre-order Traversal:\")\n",
    "preorder_traversal(binary_tree, 0)\n",
    "\n",
    "print(\"\\nIn-order Traversal:\")\n",
    "inorder_traversal(binary_tree, 0)\n",
    "\n",
    "print(\"\\nPost-order Traversal:\")\n",
    "postorder_traversal(binary_tree, 0)"
   ]
  }
 ],
 "metadata": {
  "language_info": {
   "name": "python"
  }
 },
 "nbformat": 4,
 "nbformat_minor": 2
}
