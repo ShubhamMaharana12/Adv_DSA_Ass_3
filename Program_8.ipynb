{
 "cells": [
  {
   "cell_type": "markdown",
   "metadata": {},
   "source": [
    "8) Count subtress that sum up to a given value x in a binary tree."
   ]
  },
  {
   "cell_type": "code",
   "execution_count": null,
   "metadata": {},
   "outputs": [],
   "source": [
    "class TreeNode:\n",
    "    def __init__(self, value):\n",
    "        self.value = value\n",
    "        self.left = None\n",
    "        self.right = None\n",
    "\n",
    "def count_subtrees_with_sum(root, target_sum):\n",
    "    if not root:\n",
    "        return 0\n",
    "\n",
    "    count = count_subtrees_with_sum(root.left, target_sum) + count_subtrees_with_sum(root.right, target_sum)\n",
    "\n",
    "    if is_subtree_with_sum(root, target_sum):\n",
    "        count += 1\n",
    "\n",
    "    return count\n",
    "\n",
    "def is_subtree_with_sum(node, target_sum):\n",
    "    if not node:\n",
    "        return False\n",
    "\n",
    "    current_sum = node.value + sum_tree(node.left) + sum_tree(node.right)\n",
    "    return current_sum == target_sum\n",
    "\n",
    "def sum_tree(node):\n",
    "    if not node:\n",
    "        return 0\n",
    "    return node.value + sum_tree(node.left) + sum_tree(node.right)\n",
    "\n",
    "def build_tree():\n",
    "    value = int(input(\"Enter the value for the root node: \"))\n",
    "    root = TreeNode(value)\n",
    "    \n",
    "    queue = [root]\n",
    "    \n",
    "    while queue:\n",
    "        current = queue.pop(0)\n",
    "        left_value = input(f\"Enter the left child value for {current.value} (or 'None' if no left child): \")\n",
    "        if left_value.lower() != 'none':\n",
    "            current.left = TreeNode(int(left_value))\n",
    "            queue.append(current.left)\n",
    "        \n",
    "        right_value = input(f\"Enter the right child value for {current.value} (or 'None' if no right child): \")\n",
    "        if right_value.lower() != 'none':\n",
    "            current.right = TreeNode(int(right_value))\n",
    "            queue.append(current.right)\n",
    "    \n",
    "    return root\n",
    "\n",
    "root = build_tree()\n",
    "target_sum = int(input(\"Enter the target sum: \"))\n",
    "result = count_subtrees_with_sum(root, target_sum)\n",
    "print(f\"Number of subtrees with sum {target_sum}: {result}\")"
   ]
  }
 ],
 "metadata": {
  "language_info": {
   "name": "python"
  }
 },
 "nbformat": 4,
 "nbformat_minor": 2
}
