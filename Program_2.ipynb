{
 "cells": [
  {
   "cell_type": "markdown",
   "metadata": {},
   "source": [
    "2) Find height of a given tree."
   ]
  },
  {
   "cell_type": "code",
   "execution_count": null,
   "metadata": {},
   "outputs": [],
   "source": [
    "class TreeNode:\n",
    "    def __init__(self, key):\n",
    "        self.left = None\n",
    "        self.right = None\n",
    "        self.val = key\n",
    "\n",
    "def find_height(tree):\n",
    "    if not tree:\n",
    "        return -1\n",
    "\n",
    "    index = 0\n",
    "    level = -1\n",
    "    while index < len(tree):\n",
    "        level_size = 2 ** level\n",
    "        index += level_size\n",
    "        level += 1\n",
    "\n",
    "    return level\n",
    "\n",
    "def build_binary_tree():\n",
    "    tree = []\n",
    "    n = int(input(\"Enter the number of elements in the binary tree: \"))\n",
    "    print(\"Enter the elements:\")\n",
    "    for _ in range(n):\n",
    "        key = int(input())\n",
    "        tree.append(key)\n",
    "    return tree\n",
    "\n",
    "# Example usage:\n",
    "binary_tree = build_binary_tree()\n",
    "height = find_height(binary_tree)\n",
    "print(f\"The height of the binary tree is: {height}\")"
   ]
  }
 ],
 "metadata": {
  "language_info": {
   "name": "python"
  }
 },
 "nbformat": 4,
 "nbformat_minor": 2
}
